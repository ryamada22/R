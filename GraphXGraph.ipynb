{
 "cells": [
  {
   "cell_type": "markdown",
   "metadata": {},
   "source": [
    "# グラフ上のノードペアの集合が定める構造について\n"
   ]
  },
  {
   "cell_type": "markdown",
   "metadata": {},
   "source": [
    "# 動機\n",
    "\n",
    "S2同相な形Mの特徴づけをしたい\n",
    "\n",
    "真ん丸である球面は、球面上のすべての点は、対蹠点を１個持ち、対蹠点以外にはただ１本の最短距離経路が引けて、対蹠点には無数の最短距離経路が引けることを特徴とする。\n",
    "\n",
    "真ん丸でない形Mの場合には、ある点から複数の最短経路が引ける点は１点とは限らない。\n",
    "このことを利用して、Mの特徴づけをすることを試みる。\n",
    "\n",
    "# 準備\n",
    "\n",
    "## 極遠点\n",
    "\n",
    "M上の点$u$から$v$への測地線距離を考える。\n",
    "\n",
    "$u$から任意の$v$の周囲の点への測地線距離が$v$へのそれより短いとき、$v$を$u$の極遠点と定義する。\n",
    "\n",
    "$u$の極遠点集合を\n",
    "$$\n",
    "F_u =\\{f_{u,1},...\\}\n",
    "$$\n",
    "と書くことにする。\n",
    "\n",
    "$u$が複数の極遠点を持つとき、最も測地線距離が大きいそれを最遠点とする。\n",
    "\n",
    "$u$の最遠点集合を\n",
    "$$\n",
    "\\hat{F}_u\n",
    "$$\n",
    "と書くことにする。$$\\hat{F}_u  \\subseteq F_u $$ である。\n",
    "\n",
    "\n",
    "\n",
    "単位球面S2では、任意の点は極遠点をただ一つ有する($|F_u| = 1$)。それは最遠点である($\\hat{F}_u = F_u$)。また、最遠点の最遠点は自身である($\\hat{F}_{\\hat{F}_u} = u$)。\n"
   ]
  },
  {
   "cell_type": "markdown",
   "metadata": {},
   "source": [
    "## 多様体の二乗の空間\n",
    "\n",
    "$u \\in M$と$v \\in M$とのペア$(u,v)$の集合を$M^2$と書くことにする。\n",
    "\n",
    "たとえば、円環$S_1$を考える。$S_1^2$上の点は$((\\cos{\\theta},\\sin{\\theta}),(\\cos{\\phi},\\sin{\\phi}))$と4次元の点として表せるが、少し工夫すると$(\\cos{\\theta}(1 + \\cos{\\phi}),\\sin{\\theta}(1 + \\cos{\\phi}),\\sin{\\phi})$のように3次元上の点としても表すことができる。いわゆるドーナツの形(トーラス)である。\n",
    "$S_1$上の点は単位複素数の集合としても表せるので、単位複素数のペアとして、$C^2$の部分集合としても表せる。\n",
    "\n",
    "$S_2^2$の場合には、単位クオータニオンのペアとして$H^2$の部分集合としても表せるだろう。\n"
   ]
  },
  {
   "cell_type": "markdown",
   "metadata": {},
   "source": [
    "## 極遠点ペアが構成する多様体\n",
    "\n",
    "$u \\in M$とその極遠点$f_{u,i} \\in M$のペア$(u,f_{u,i})$の集合$B$を考える。\n",
    "\n",
    "$$\n",
    "\\forall u \\in M, \\forall i \\in \\{1,..,|F_u|\\}, B = \\{(u,f_{u,i})\\},B \\subseteq M^2\n",
    "$$\n",
    "\n",
    "$M$が連続で滑らかなとき、$B$も連続で滑らかであると考えられる。\n",
    "\n",
    "この$B$は$|F_u|$と関係するから、$B$の位相も$|F_u|$と関係している。\n",
    "\n",
    "たとえば、円環の場合には、すべての$u$の極遠点はただ１つ存在している。それを$S_1^2$上に描けば、トーラス上の環となる。\n",
    "また、球面の場合には、すべての$u$において極遠点はただ１つ存在している。それが閉じた二次元多様体をなす。\n",
    "\n",
    "この$B$の位相によって$M$の特徴量とし、$M$を分類することを考える。\n",
    "\n",
    "余談になるが、対称空間の特徴づけ・分類に対蹠集合を使う方法があるが、対蹠と極遠とに共通点を見出すことにより、対称空間の特徴づけと多様体の形の特徴づけとには、何かしらの関係があるかもしれないと想像する。\n"
   ]
  },
  {
   "cell_type": "markdown",
   "metadata": {},
   "source": [
    "## 離散化\n",
    "\n",
    "多様体$M$上の有限個の点の集合を頂点とするグラフ$G$として得られている場合に、上記の内容を取り扱うこととする。\n",
    "\n",
    "極遠点は、以下のように定義する。\n",
    "\n",
    "$G$上の点$u,v$を考える。$u$から$v$への最短グラフ距離$d(u,v)$が、$v$と隣接する任意の点$w$に関して$d(u,v) \\ge d(u,v)$であるとき、$v \\in F_u$であるとする。\n",
    "\n",
    "$G$上の2点 $u_1,u_2$が隣接関係にあるとする。\n",
    "それぞれの極遠点集合 $F_{u_1},F_{u_2}$とする。\n",
    "\n",
    "$F_{u_1}$のすべての要素は$F_{u_2}$のいずれか１つ以上と隣接関係にあり、\n",
    "$F_{u_2}$のすべての要素は$F_{u_1}$のいずれか１つ以上と隣接関係にあることは\n",
    "$G$が連続で滑らかな$M$の離散表現であることから要請される。\n",
    "\n",
    "2つの集合$F_{u_1},F_{u_2}$の要素対応を$S=S(u_1,u_2) = \\{f_{u_1,s_1},f_{u_2,s_2}\\},s_1 \\in \\{1,...,|F_{u_1}|\\},,s_2 \\in \\{1,...,|F_{u_2}|\\}$ と表すこととする。\n",
    "\n",
    "どの要素対応が、実際の対応とするかは以下のように定めることとする。\n",
    "$$\n",
    "\\hat{s}=argmin_{S} (\\sum_{s \\in S} d(f_{u_1,s_1},f_{u_2,s_2}))\n",
    "$$\n",
    "\n",
    "今、$G$の頂点の次数がすべて等しいとすると、$S$は次数の数のペアとなる。"
   ]
  },
  {
   "cell_type": "markdown",
   "metadata": {},
   "source": [
    "# Rで実装\n",
    "\n",
    "$S$の簡便性から、斉次数グラフを考える。\n",
    "実際、S2同相3次元オブジェクトの場合には、三角化グラフを作成し、その双対グラフを取れば、すべての次数が3であるようなグラフとできる。\n",
    "\n",
    "## 極遠点の検出"
   ]
  },
  {
   "cell_type": "raw",
   "metadata": {},
   "source": [
    "library(rgl) # package for 3d object handling\n",
    "library(igraph) # package for graph theory\n",
    "# reading the bunny_200.obj \n",
    "bunny <- readOBJ(\"bunny_200.obj\")\n",
    "# 3D coordinates of vertices in the shape of n x 3 matrix\n",
    "V.xyz <- t(bunny[[1]][1:3,])\n",
    "# Enumerate edges of triangle in n x 2 matrix shape\n",
    "Edges <- rbind(t(bunny[[2]][1:2,]),t(bunny[[2]][2:3,]),t(bunny[[2]][c(3,1),]))\n",
    "# Remove duplicates of edges\n",
    "Edges <- unique(Edges)\n",
    "# length of edges\n",
    "Edge.len <- sqrt(apply((V.xyz[Edges[,1],] - V.xyz[Edges[,2],])^2,1,sum))\n",
    "# make a graph object\n",
    "g <- graph.edgelist(Edges)\n",
    "# distance on the graph\n",
    "d <- distances(g,weights=Edge.len)\n",
    "# 隣接ノード\n",
    "adj.v <- adjacent_vertices(g,1:length(V(g)))\n"
   ]
  },
  {
   "cell_type": "code",
   "execution_count": 12,
   "metadata": {},
   "outputs": [],
   "source": [
    "library(rgl) # package for 3d object handling\n",
    "library(igraph) # package for graph theory\n",
    "# reading the bunny_200.obj \n",
    "bunny <- readOBJ(\"bunny_200.obj\")\n",
    "# 3D coordinates of vertices in the shape of n x 3 matrix\n",
    "V.xyz <- t(bunny[[1]][1:3,])\n",
    "# 三角形の重心座標\n",
    "Face.x <- matrix(V.xyz[bunny[[2]],1],ncol=3)\n",
    "Face.y <- matrix(V.xyz[bunny[[2]],2],ncol=3)\n",
    "Face.z <- matrix(V.xyz[bunny[[2]],3],ncol=3)\n",
    "Face.xyz <- cbind(apply(Face.x,1,mean),apply(Face.y,1,mean),apply(Face.z,1,mean))\n",
    "# Enumerate edges of triangle in n x 2 matrix shape\n",
    "Edges <- rbind(t(bunny[[2]][1:2,]),t(bunny[[2]][2:3,]),t(bunny[[2]][c(3,1),]))\n",
    "Edges <- t(apply(Edges,1,sort))\n",
    "# Remove duplicates of edges\n",
    "Edges <- unique(Edges)\n",
    "# エッジを共有する三角形ペアの列挙\n",
    "Edges <- t(apply(Edges,1,sort))\n",
    "bunny2. <- apply(bunny[[2]],2,sort)\n",
    "E1 <- bunny2.[1:2,]\n",
    "E2 <- bunny2.[2:3,]\n",
    "E3 <- bunny2.[c(1,3),]\n",
    "Edges.face <- Edges\n",
    "for(i in 1:length(Edges[,1])){\n",
    "    E1. <- E1 - Edges[i,]\n",
    "    E2. <- E2 - Edges[i,]\n",
    "    E3. <- E3 - Edges[i,]\n",
    "    tmp1 <- apply(E1.^2,2,sum)\n",
    "    tmp2 <- apply(E2.^2,2,sum)\n",
    "    tmp3 <- apply(E3.^2,2,sum)\n",
    "    tmp4 <- tmp1 * tmp2 * tmp3\n",
    "    tmp5 <- which(tmp4==0)\n",
    "    #print(length(tmp5))\n",
    "    Edges.face[i,] <- tmp5\n",
    "}\n",
    "# length of edges.face\n",
    "Edge.face.len <- sqrt(apply((Face.xyz[Edges.face[,1],] - Face.xyz[Edges.face[,2],])^2,1,sum))\n",
    "# length of edges\n",
    "Edge.len <- sqrt(apply((V.xyz[Edges[,1],] - V.xyz[Edges[,2],])^2,1,sum))\n",
    "g.face <- graph.edgelist(Edges.face,directed=FALSE)\n",
    "# make a graph object\n",
    "g <- graph.edgelist(Edges,directed=FALSE)\n",
    "# distance on the graph\n",
    "d <- distances(g,weights=Edge.len)\n",
    "d.face <- distances(g.face,weights=Edge.face.len)\n",
    "# 隣接ノード\n",
    "adj.v <- adjacent_vertices(g,1:length(V(g)))\n",
    "adj.v.face <- adjacent_vertices(g.face,1:length(V(g.face)))\n",
    "#degree(g.face)"
   ]
  },
  {
   "cell_type": "code",
   "execution_count": 13,
   "metadata": {},
   "outputs": [],
   "source": [
    "# 極遠点検出関数\n",
    "my.Far <- function(d,adj.v){\n",
    "    n <- length(adj.v)\n",
    "    ret <- matrix(0,n,n)\n",
    "    for(i in 1:n){\n",
    "        tmp <- d[,adj.v[[i]]]\n",
    "        tmp2 <- apply(tmp < d[,i],1,prod)\n",
    "        ret[which(tmp2==1),i] <- 1\n",
    "    }\n",
    "    return(ret)\n",
    "}"
   ]
  },
  {
   "cell_type": "code",
   "execution_count": 15,
   "metadata": {},
   "outputs": [],
   "source": [
    "#lapply(adj.v,length)\n",
    "fars <- my.Far(d,adj.v)\n",
    "fars.face <- my.Far(d.face,adj.v.face)"
   ]
  },
  {
   "cell_type": "code",
   "execution_count": 17,
   "metadata": {},
   "outputs": [
    {
     "data": {
      "image/png": "[encoded data removed]",
      "text/plain": [
       "plot without title"
      ]
     },
     "metadata": {},
     "output_type": "display_data",
     "source": "R display func"
    }
   ],
   "source": [
    "image(fars)"
   ]
  },
  {
   "cell_type": "markdown",
   "metadata": {},
   "source": [
    "## (点,極遠点)ペアとその隣接関係の列挙\n",
    "\n",
    "### ペア作成\n",
    "n個の要素とm個の要素があり、その$n \\times m$ペアの距離が与えられていたとき、ペアを作る。\n",
    "n個のそれぞれから、m個側の最短のそれとペアを組み\n",
    "m個のそれぞれから、n個側の最短のそれとペアを組むことにする。\n"
   ]
  },
  {
   "cell_type": "code",
   "execution_count": 46,
   "metadata": {},
   "outputs": [
    {
     "data": {
      "text/html": [
       "<table>\n",
       "<tbody>\n",
       "\t<tr><td>1</td><td>1</td></tr>\n",
       "\t<tr><td>2</td><td>1</td></tr>\n",
       "\t<tr><td>1</td><td>2</td></tr>\n",
       "\t<tr><td>1</td><td>3</td></tr>\n",
       "</tbody>\n",
       "</table>\n"
      ],
      "text/latex": [
       "\\begin{tabular}{ll}\n",
       "\t 1 & 1\\\\\n",
       "\t 2 & 1\\\\\n",
       "\t 1 & 2\\\\\n",
       "\t 1 & 3\\\\\n",
       "\\end{tabular}\n"
      ],
      "text/markdown": [
       "\n",
       "| 1 | 1 | \n",
       "| 2 | 1 | \n",
       "| 1 | 2 | \n",
       "| 1 | 3 | \n",
       "\n",
       "\n"
      ],
      "text/plain": [
       "     [,1] [,2]\n",
       "[1,] 1    1   \n",
       "[2,] 2    1   \n",
       "[3,] 1    2   \n",
       "[4,] 1    3   "
      ]
     },
     "metadata": {},
     "output_type": "display_data"
    }
   ],
   "source": [
    "my.minPair <- function(d){\n",
    "    n <- length(d[,1])\n",
    "    m <- length(d[1,])\n",
    "    tmp <- t(apply(d,1,order))\n",
    "    tmp2 <- apply(d,2,order)\n",
    "    tmp.pair <- rbind(cbind(1:n,tmp[,1]),cbind(tmp2[1,],1:m))\n",
    "    #tmp.pair <- t(apply(tmp.pair,1,sort))\n",
    "    tmp.pair <- unique(tmp.pair)\n",
    "    return(tmp.pair)\n",
    "}\n",
    "tmp.d <- matrix(c(1,2,3,4,5,6),ncol=3)\n",
    "my.minPair(tmp.d)"
   ]
  },
  {
   "cell_type": "markdown",
   "metadata": {},
   "source": [
    "### 隣接関係列挙\n",
    "\n",
    "オリジナルのグラフのエッジごとに、(点,極遠点)集合間にペアを作る。"
   ]
  },
  {
   "cell_type": "code",
   "execution_count": 59,
   "metadata": {},
   "outputs": [],
   "source": [
    "# el: 元のグラフのエッジリスト\n",
    "# x: 元のグラフの頂点座標\n",
    "# fars: 極遠点情報行列\n",
    "\n",
    "my.dist.pair <- function(X1,X2){\n",
    "    L1 <- apply(X1^2,1,sum)\n",
    "    L2 <- apply(X2^2,1,sum)\n",
    "    IP <- X1 %*% t(X2)\n",
    "    tmp <- outer(L1,L2,\"+\") - 2 * IP\n",
    "    tmp[which(tmp < 0)] <- 0\n",
    "    sqrt(tmp)\n",
    "}\n",
    "\n",
    "my.farManifold <- function(fars,el,x){\n",
    "    # 頂点ペア(新たな多様体グラフの頂点になる)\n",
    "    V <- which(fars==1,arr.ind=TRUE)\n",
    "    n.el <- length(el[,1])\n",
    "    ret <- matrix(0,0,4)\n",
    "    ncol <- length(x[1,])\n",
    "    for(i in 1:n.el){\n",
    "        f1 <- which(fars[el[i,1],]==1)\n",
    "        f2 <- which(fars[el[i,2],]==1)\n",
    "        #F1 <- cbind(rep(el[i,1],length(f1)),f1)\n",
    "        #F2 <- cbind(rep(el[i,2],length(f2)),f2)\n",
    "        #X1 <- cbind(x[F1[,1],],x[F1[,2],])\n",
    "        #X2 <- cbind(x[F2[,1],],x[F2[,2],])\n",
    "        X1 <- matrix(x[f1,],ncol=ncol)\n",
    "        X2 <- matrix(x[f2,],ncol=ncol)\n",
    "        \n",
    "        tmp <- my.dist.pair(X1,X2)\n",
    "        tmp2 <- my.minPair(tmp)\n",
    "        n.pair <- length(tmp2[,1])\n",
    "        ret <- rbind(ret,cbind(rep(el[i,1],n.pair),tmp2[,1],rep(el[i,2],n.pair),tmp2[,2]))\n",
    "    }\n",
    "    return(list(V=V,E=ret))\n",
    "}"
   ]
  },
  {
   "cell_type": "code",
   "execution_count": 60,
   "metadata": {},
   "outputs": [],
   "source": [
    "el <- Edges\n",
    "x <- V.xyz\n",
    "out <- my.farManifold(fars,el,x)"
   ]
  },
  {
   "cell_type": "markdown",
   "metadata": {},
   "source": [
    "### (点,極遠点)ペアをノードとするグラフ\n",
    "\n",
    "$M^2$空間に、(点,極遠点)ペアがその隣接関係とともに取り出された。\n",
    "\n",
    "(点,極遠点)ペアを$M^2$空間のノードであるとして、この多様体をグラフとして取り出すことにする。"
   ]
  },
  {
   "cell_type": "code",
   "execution_count": 80,
   "metadata": {},
   "outputs": [],
   "source": [
    "# V は(点,極遠点)ペア\n",
    "# E はV のペア((点,極遠点)ペア,(点,極遠点)ペア)\n",
    "my.graphM2 <- function(V,E){\n",
    "    nv <- max(V)\n",
    "    new.V.id <- (V[,1]-1) * nv + V[,2]\n",
    "    new.E.id <- cbind(paste(\"\",(E[,1]-1) * nv + E[,2]), paste(\"\",(E[,3]-1) * nv + E[,4]))\n",
    "    new.g <- graph.edgelist(new.E.id,directed=FALSE)\n",
    "    return(list(g=new.g,vid = new.V.id,eid=new.E.id))\n",
    "}"
   ]
  },
  {
   "cell_type": "code",
   "execution_count": 81,
   "metadata": {},
   "outputs": [],
   "source": [
    "graphM2 <- my.graphM2(out$V,out$E)"
   ]
  },
  {
   "cell_type": "code",
   "execution_count": 82,
   "metadata": {},
   "outputs": [],
   "source": [
    "# V は(点,極遠点)ペア\n",
    "# x はオリジナルグラフのノード座標\n",
    "my.coordsM2 <- function(V,x){\n",
    "    cbind(x[V[,1],],x[V[,2],])\n",
    "}"
   ]
  },
  {
   "cell_type": "code",
   "execution_count": 83,
   "metadata": {},
   "outputs": [
    {
     "data": {
      "text/html": [
       "TRUE"
      ],
      "text/latex": [
       "TRUE"
      ],
      "text/markdown": [
       "TRUE"
      ],
      "text/plain": [
       "[1] TRUE"
      ]
     },
     "metadata": {},
     "output_type": "display_data"
    }
   ],
   "source": [
    "is.connected(graphM2$g)"
   ]
  },
  {
   "cell_type": "code",
   "execution_count": 84,
   "metadata": {},
   "outputs": [
    {
     "data": {
      "image/png": "[encoded data removed]",
      "text/plain": [
       "Plot with title \"\""
      ]
     },
     "metadata": {},
     "output_type": "display_data",
     "source": "R display func"
    }
   ],
   "source": [
    "plot(graphM2$g,vertex.size=0.1,vertex.label=NA)"
   ]
  },
  {
   "cell_type": "code",
   "execution_count": null,
   "metadata": {},
   "outputs": [],
   "source": []
  }
 ],
 "metadata": {
  "kernelspec": {
   "display_name": "R",
   "language": "R",
   "name": "ir"
  },
  "language_info": {
   "codemirror_mode": "r",
   "file_extension": ".r",
   "mimetype": "text/x-r-source",
   "name": "R",
   "pygments_lexer": "r",
   "version": "3.4.1"
  }
 },
 "nbformat": 4,
 "nbformat_minor": 2
}
