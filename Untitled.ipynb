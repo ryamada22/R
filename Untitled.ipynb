{
 "cells": [
  {
   "cell_type": "code",
   "execution_count": null,
   "metadata": {},
   "outputs": [],
   "source": [
    "import cv2, matplotlib\n",
    "import numpy as np\n",
    "import matplotlib.pyplot as plt\n",
    "from PIL import Image"
   ]
  },
  {
   "cell_type": "code",
   "execution_count": null,
   "metadata": {},
   "outputs": [],
   "source": [
    "img = cv2.imread('C:\\\\Users\\\\ryamada\\\\Pictures\\\\Teeth\\\\20171226_181419978.jpg',cv2.IMREAD_GRAYSCALE)\n",
    "screen = cv2.imread(\"C:\\\\Users\\\\ryamada\\\\Pictures\\\\Teeth\\\\20180101_204030417.jpg\",cv2.IMREAD_GRAYSCALE)"
   ]
  },
  {
   "cell_type": "code",
   "execution_count": null,
   "metadata": {},
   "outputs": [],
   "source": [
    "print(img)"
   ]
  },
  {
   "cell_type": "code",
   "execution_count": 4,
   "metadata": {},
   "outputs": [],
   "source": [
    "edge= cv2.Canny(img,80,120)\n",
    "nega = cv2.bitwise_not(edge)"
   ]
  },
  {
   "cell_type": "code",
   "execution_count": 5,
   "metadata": {},
   "outputs": [
    {
     "data": {
      "text/plain": [
       "range(0, 1080)"
      ]
     },
     "execution_count": 5,
     "metadata": {},
     "output_type": "execute_result"
    }
   ],
   "source": [
    "range(img.shape[0])"
   ]
  },
  {
   "cell_type": "code",
   "execution_count": null,
   "metadata": {},
   "outputs": [],
   "source": [
    "# sizeを取得\n",
    "width = img.shape[0] \n",
    "height = img.shape[1]\n",
    " \n",
    "# 3値化を行う(ただし灰色の場合はスクリーントーンに置き換える)\n",
    "temp = np.zeros_like(img)\n",
    "for i in range(width):\n",
    "    for j in range(height):\n",
    "        if img[i,j]<80:\n",
    "            temp[i,j] = 0\n",
    "        elif img[i,j]>=80 and img[i,j]<160:\n",
    "            temp[i,j] = screen[i,j]\n",
    "        else:\n",
    "            temp[i,j] = 255\n",
    " \n",
    "# 3値化とエッジの画像を合成\n",
    "alpha = 0.5\n",
    "result = cv2.addWeighted(nega,alpha,temp,1-alpha,0.0)\n",
    "(thresh,result)=cv2.threshold(result,200,255,cv2.THRESH_BINARY)"
   ]
  },
  {
   "cell_type": "code",
   "execution_count": null,
   "metadata": {},
   "outputs": [],
   "source": [
    "cv2.imshow(\"color\",img)\n",
    "cv2.waitKey(0)\n",
    "cv2.destroyWindow(\"color\")"
   ]
  },
  {
   "cell_type": "code",
   "execution_count": null,
   "metadata": {},
   "outputs": [],
   "source": []
  }
 ],
 "metadata": {
  "kernelspec": {
   "display_name": "Python 3",
   "language": "python",
   "name": "python3"
  },
  "language_info": {
   "codemirror_mode": {
    "name": "ipython",
    "version": 3
   },
   "file_extension": ".py",
   "mimetype": "text/x-python",
   "name": "python",
   "nbconvert_exporter": "python",
   "pygments_lexer": "ipython3",
   "version": "3.6.3"
  }
 },
 "nbformat": 4,
 "nbformat_minor": 2
}
