{
 "cells": [
  {
   "cell_type": "markdown",
   "metadata": {},
   "source": [
    "# 虚数軸のある空間\n",
    "\n",
    "## 実軸１つ、虚軸１\n",
    "$$\n",
    "d(\\theta_1,\\theta_2)^2 = (\\theta_1(1)-\\theta_2(1))^2 - (\\theta_1(2)-\\theta_2(2))^2\n",
    "$$"
   ]
  },
  {
   "cell_type": "code",
   "execution_count": null,
   "metadata": {},
   "outputs": [],
   "source": []
  },
  {
   "cell_type": "code",
   "execution_count": 40,
   "metadata": {},
   "outputs": [],
   "source": [
    "# n 発生する乱点の数\n",
    "# lambdas 虚実係数\n",
    "# x 初期点座標\n",
    "# rng 座標の範囲\n",
    "my.rimagspace.pts <- function(n,lambdas,x0=rep(0,length(lambdas)),rng=c(-10,10)){\n",
    "    d <- length(lambdas)\n",
    "    ret <- matrix(0,n,d)\n",
    "    ret[1,] <- x0\n",
    "    for(i in 2:n){\n",
    "        loop <- TRUE\n",
    "        while(loop){\n",
    "            tmp <- runif(d,min=rng[1],max[1])\n",
    "            tmp.mat <- t(ret[1:(i-1),]) - tmp\n",
    "            tmp2 <- apply(tmp.mat^2 * lambdas,2,sum)\n",
    "            if(min(tmp2)>=0){\n",
    "                ret[i,] <- tmp\n",
    "                loop <- FALSE\n",
    "            }\n",
    "        }\n",
    "    }\n",
    "    return(ret)\n",
    "}"
   ]
  },
  {
   "cell_type": "code",
   "execution_count": 51,
   "metadata": {},
   "outputs": [],
   "source": [
    "n <- 3\n",
    "lambdas <- c(1,-1)\n",
    "#out <- my.rimagspace.pts(n,lambdas)\n",
    "rng <- c(-10,10)\n",
    "x0 <- c(0,0)"
   ]
  },
  {
   "cell_type": "code",
   "execution_count": 44,
   "metadata": {},
   "outputs": [
    {
     "data": {
      "text/html": [
       "3"
      ],
      "text/latex": [
       "3"
      ],
      "text/markdown": [
       "3"
      ],
      "text/plain": [
       "[1] 3"
      ]
     },
     "metadata": {},
     "output_type": "display_data"
    }
   ],
   "source": [
    "d <- length(lambdas)\n",
    "    ret <- matrix(0,n,d)\n",
    "    ret[1,] <- x0\n",
    " tmp <- runif(d,min=rng[1],max=rng[2])\n",
    "            tmp.mat <- t(ret[1:(i-1),]) - tmp\n",
    "i"
   ]
  },
  {
   "cell_type": "code",
   "execution_count": null,
   "metadata": {},
   "outputs": [],
   "source": [
    "i <- 2\n",
    " d <- length(lambdas)\n",
    "    ret <- matrix(0,n,d)\n",
    "    ret[1,] <- x0\n",
    "tmp <- runif(d,min=rng[1],max[1])\n",
    "            tmp.mat <- matrix(t(ret[1:(i-1),]) - tmp,ncol=i-1)\n",
    "            tmp2 <- apply(tmp.mat^2 * lambdas,2,sum)\n",
    "print(tmp2)\n",
    "            if(min(tmp2)>=0){\n",
    "                ret[i,] <- tmp\n",
    "                loop <- FALSE\n",
    "            }\n"
   ]
  },
  {
   "cell_type": "code",
   "execution_count": 77,
   "metadata": {},
   "outputs": [
    {
     "data": {
      "text/html": [
       "<table>\n",
       "<tbody>\n",
       "\t<tr><td>-5.403290</td></tr>\n",
       "\t<tr><td>-5.322877</td></tr>\n",
       "</tbody>\n",
       "</table>\n"
      ],
      "text/latex": [
       "\\begin{tabular}{l}\n",
       "\t -5.403290\\\\\n",
       "\t -5.322877\\\\\n",
       "\\end{tabular}\n"
      ],
      "text/markdown": [
       "\n",
       "| -5.403290 | \n",
       "| -5.322877 | \n",
       "\n",
       "\n"
      ],
      "text/plain": [
       "     [,1]     \n",
       "[1,] -5.403290\n",
       "[2,] -5.322877"
      ]
     },
     "metadata": {},
     "output_type": "display_data"
    }
   ],
   "source": [
    " tmp.mat <- matrix(t(ret[1:(i-1),]) - tmp,ncol=i-1)\n",
    "tmp.mat"
   ]
  },
  {
   "cell_type": "code",
   "execution_count": null,
   "metadata": {},
   "outputs": [],
   "source": [
    "    d <- length(lambdas)\n",
    "    ret <- matrix(0,n,d)\n",
    "    ret[1,] <- x0\n",
    "    for(i in 2:n){\n",
    "        loop <- TRUE\n",
    "        while(loop){\n",
    "            tmp <- runif(d,min=rng[1],max[1])\n",
    "            tmp.mat <- t(ret[1:(i-1),]) - tmp\n",
    "            tmp2 <- apply(tmp.mat^2 * lambdas,2,sum)\n",
    "            if(min(tmp2)>=0){\n",
    "                ret[i,] <- tmp\n",
    "                loop <- FALSE\n",
    "            }\n",
    "        }\n",
    "    }"
   ]
  },
  {
   "cell_type": "code",
   "execution_count": 31,
   "metadata": {},
   "outputs": [
    {
     "data": {
      "image/png": "[encoded data removed]",
      "text/plain": [
       "plot without title"
      ]
     },
     "metadata": {},
     "output_type": "display_data"
    }
   ],
   "source": [
    "plot(ret)"
   ]
  },
  {
   "cell_type": "code",
   "execution_count": null,
   "metadata": {},
   "outputs": [],
   "source": [
    "n <- 3\n",
    "out <- my.rimagspace.pts(n,lambdas)"
   ]
  },
  {
   "cell_type": "code",
   "execution_count": 39,
   "metadata": {},
   "outputs": [
    {
     "ename": "ERROR",
     "evalue": "Error in plot(out):  オブジェクト 'out' がありません \n",
     "output_type": "error",
     "traceback": [
      "Error in plot(out):  オブジェクト 'out' がありません \nTraceback:\n",
      "1. plot(out)"
     ]
    }
   ],
   "source": [
    "plot(out)\n"
   ]
  },
  {
   "cell_type": "code",
   "execution_count": null,
   "metadata": {},
   "outputs": [],
   "source": []
  }
 ],
 "metadata": {
  "kernelspec": {
   "display_name": "R",
   "language": "R",
   "name": "ir"
  },
  "language_info": {
   "codemirror_mode": "r",
   "file_extension": ".r",
   "mimetype": "text/x-r-source",
   "name": "R",
   "pygments_lexer": "r",
   "version": "3.4.1"
  }
 },
 "nbformat": 4,
 "nbformat_minor": 2
}
